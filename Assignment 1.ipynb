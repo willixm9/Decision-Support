{
 "cells": [
  {
   "cell_type": "code",
   "execution_count": 1,
   "metadata": {
    "collapsed": true
   },
   "outputs": [],
   "source": [
    "# Supress warnings:\n",
    "import warnings\n",
    "warnings.filterwarnings(\"ignore\")"
   ]
  },
  {
   "cell_type": "code",
   "execution_count": 2,
   "outputs": [
    {
     "data": {
      "text/plain": "       Airline Date_of_Journey    Source Destination                  Route  \\\n0       IndiGo      24/03/2019  Banglore   New Delhi              BLR → DEL   \n1    Air India       1/05/2019   Kolkata    Banglore  CCU → IXR → BBI → BLR   \n2  Jet Airways       9/06/2019     Delhi      Cochin  DEL → LKO → BOM → COK   \n3       IndiGo      12/05/2019   Kolkata    Banglore        CCU → NAG → BLR   \n4       IndiGo      01/03/2019  Banglore   New Delhi        BLR → NAG → DEL   \n\n  Dep_Time  Arrival_Time Duration Total_Stops Additional_Info  Price  \n0    22:20  01:10 22 Mar   2h 50m    non-stop         No info   3897  \n1    05:50         13:15   7h 25m     2 stops         No info   7662  \n2    09:25  04:25 10 Jun      19h     2 stops         No info  13882  \n3    18:05         23:30   5h 25m      1 stop         No info   6218  \n4    16:50         21:35   4h 45m      1 stop         No info  13302  ",
      "text/html": "<div>\n<style scoped>\n    .dataframe tbody tr th:only-of-type {\n        vertical-align: middle;\n    }\n\n    .dataframe tbody tr th {\n        vertical-align: top;\n    }\n\n    .dataframe thead th {\n        text-align: right;\n    }\n</style>\n<table border=\"1\" class=\"dataframe\">\n  <thead>\n    <tr style=\"text-align: right;\">\n      <th></th>\n      <th>Airline</th>\n      <th>Date_of_Journey</th>\n      <th>Source</th>\n      <th>Destination</th>\n      <th>Route</th>\n      <th>Dep_Time</th>\n      <th>Arrival_Time</th>\n      <th>Duration</th>\n      <th>Total_Stops</th>\n      <th>Additional_Info</th>\n      <th>Price</th>\n    </tr>\n  </thead>\n  <tbody>\n    <tr>\n      <th>0</th>\n      <td>IndiGo</td>\n      <td>24/03/2019</td>\n      <td>Banglore</td>\n      <td>New Delhi</td>\n      <td>BLR → DEL</td>\n      <td>22:20</td>\n      <td>01:10 22 Mar</td>\n      <td>2h 50m</td>\n      <td>non-stop</td>\n      <td>No info</td>\n      <td>3897</td>\n    </tr>\n    <tr>\n      <th>1</th>\n      <td>Air India</td>\n      <td>1/05/2019</td>\n      <td>Kolkata</td>\n      <td>Banglore</td>\n      <td>CCU → IXR → BBI → BLR</td>\n      <td>05:50</td>\n      <td>13:15</td>\n      <td>7h 25m</td>\n      <td>2 stops</td>\n      <td>No info</td>\n      <td>7662</td>\n    </tr>\n    <tr>\n      <th>2</th>\n      <td>Jet Airways</td>\n      <td>9/06/2019</td>\n      <td>Delhi</td>\n      <td>Cochin</td>\n      <td>DEL → LKO → BOM → COK</td>\n      <td>09:25</td>\n      <td>04:25 10 Jun</td>\n      <td>19h</td>\n      <td>2 stops</td>\n      <td>No info</td>\n      <td>13882</td>\n    </tr>\n    <tr>\n      <th>3</th>\n      <td>IndiGo</td>\n      <td>12/05/2019</td>\n      <td>Kolkata</td>\n      <td>Banglore</td>\n      <td>CCU → NAG → BLR</td>\n      <td>18:05</td>\n      <td>23:30</td>\n      <td>5h 25m</td>\n      <td>1 stop</td>\n      <td>No info</td>\n      <td>6218</td>\n    </tr>\n    <tr>\n      <th>4</th>\n      <td>IndiGo</td>\n      <td>01/03/2019</td>\n      <td>Banglore</td>\n      <td>New Delhi</td>\n      <td>BLR → NAG → DEL</td>\n      <td>16:50</td>\n      <td>21:35</td>\n      <td>4h 45m</td>\n      <td>1 stop</td>\n      <td>No info</td>\n      <td>13302</td>\n    </tr>\n  </tbody>\n</table>\n</div>"
     },
     "execution_count": 2,
     "metadata": {},
     "output_type": "execute_result"
    }
   ],
   "source": [
    "#loading data\n",
    "import pandas as pd\n",
    "from pathlib import Path\n",
    "\n",
    "#import NumPy library\n",
    "import numpy as np\n",
    "\n",
    "file_path = Path(\"airfareData/Data_Train.xlsx\")\n",
    "airfare = pd.read_excel(file_path)\n",
    "\n",
    "airfare.head()"
   ],
   "metadata": {
    "collapsed": false
   }
  },
  {
   "cell_type": "code",
   "execution_count": 3,
   "outputs": [
    {
     "data": {
      "text/plain": "       Airline Date_of_Journey Dep_Time  Arrival_Time Duration Total_Stops  \\\n0       IndiGo      24/03/2019    22:20  01:10 22 Mar   2h 50m    non-stop   \n1    Air India       1/05/2019    05:50         13:15   7h 25m     2 stops   \n2  Jet Airways       9/06/2019    09:25  04:25 10 Jun      19h     2 stops   \n3       IndiGo      12/05/2019    18:05         23:30   5h 25m      1 stop   \n4       IndiGo      01/03/2019    16:50         21:35   4h 45m      1 stop   \n\n   Price  \n0   3897  \n1   7662  \n2  13882  \n3   6218  \n4  13302  ",
      "text/html": "<div>\n<style scoped>\n    .dataframe tbody tr th:only-of-type {\n        vertical-align: middle;\n    }\n\n    .dataframe tbody tr th {\n        vertical-align: top;\n    }\n\n    .dataframe thead th {\n        text-align: right;\n    }\n</style>\n<table border=\"1\" class=\"dataframe\">\n  <thead>\n    <tr style=\"text-align: right;\">\n      <th></th>\n      <th>Airline</th>\n      <th>Date_of_Journey</th>\n      <th>Dep_Time</th>\n      <th>Arrival_Time</th>\n      <th>Duration</th>\n      <th>Total_Stops</th>\n      <th>Price</th>\n    </tr>\n  </thead>\n  <tbody>\n    <tr>\n      <th>0</th>\n      <td>IndiGo</td>\n      <td>24/03/2019</td>\n      <td>22:20</td>\n      <td>01:10 22 Mar</td>\n      <td>2h 50m</td>\n      <td>non-stop</td>\n      <td>3897</td>\n    </tr>\n    <tr>\n      <th>1</th>\n      <td>Air India</td>\n      <td>1/05/2019</td>\n      <td>05:50</td>\n      <td>13:15</td>\n      <td>7h 25m</td>\n      <td>2 stops</td>\n      <td>7662</td>\n    </tr>\n    <tr>\n      <th>2</th>\n      <td>Jet Airways</td>\n      <td>9/06/2019</td>\n      <td>09:25</td>\n      <td>04:25 10 Jun</td>\n      <td>19h</td>\n      <td>2 stops</td>\n      <td>13882</td>\n    </tr>\n    <tr>\n      <th>3</th>\n      <td>IndiGo</td>\n      <td>12/05/2019</td>\n      <td>18:05</td>\n      <td>23:30</td>\n      <td>5h 25m</td>\n      <td>1 stop</td>\n      <td>6218</td>\n    </tr>\n    <tr>\n      <th>4</th>\n      <td>IndiGo</td>\n      <td>01/03/2019</td>\n      <td>16:50</td>\n      <td>21:35</td>\n      <td>4h 45m</td>\n      <td>1 stop</td>\n      <td>13302</td>\n    </tr>\n  </tbody>\n</table>\n</div>"
     },
     "execution_count": 3,
     "metadata": {},
     "output_type": "execute_result"
    }
   ],
   "source": [
    "#The dependent variable for this dataset is the airfare price, which is the variable we want to predict.\n",
    "\n",
    "# Is 'Route' information is already captured by the 'Total_Stops' variable??\n",
    "\n",
    "columns_to_drop = ['Source', 'Destination','Additional_Info','Route']\n",
    "\n",
    "airfare.drop(columns=columns_to_drop, axis=1, inplace=True)\n",
    "airfare.head()"
   ],
   "metadata": {
    "collapsed": false
   }
  },
  {
   "cell_type": "code",
   "execution_count": 4,
   "outputs": [
    {
     "data": {
      "text/plain": "Airline            0\nDate_of_Journey    0\nDep_Time           0\nArrival_Time       0\nDuration           0\nTotal_Stops        0\nPrice              0\ndtype: int64"
     },
     "execution_count": 4,
     "metadata": {},
     "output_type": "execute_result"
    }
   ],
   "source": [
    "#replacing categories with numerical labels for algorithms\n",
    "from sklearn.preprocessing import LabelEncoder\n",
    "\n",
    "\n",
    "le = LabelEncoder()\n",
    "airfare = airfare.apply(le.fit_transform)\n",
    "\n",
    "\n",
    "#step 7: checking for null values\n",
    "airfare.isnull().sum()"
   ],
   "metadata": {
    "collapsed": false
   }
  },
  {
   "cell_type": "code",
   "execution_count": 5,
   "outputs": [
    {
     "name": "stdout",
     "output_type": "stream",
     "text": [
      "The size of training input is (8546, 6)\n",
      "The size of training output is (8546,)\n",
      "**************************************************\n",
      "The size of testing input is (2137, 6)\n",
      "The size of testing output is (2137,)\n"
     ]
    }
   ],
   "source": [
    "#data partition by PRICE (Dependent variable)\n",
    "X = airfare.drop(['Price'], axis=1)\n",
    "Y = airfare['Price']\n",
    "\n",
    "# Taking 80% of House data as training set, and remaining 20% as test set.\n",
    "X_train = np.array(X[0:int(0.80*len(X))])\n",
    "Y_train = np.array(Y[0:int(0.80*len(Y))])\n",
    "X_test = np.array(X[int(0.80*len(X)):])\n",
    "Y_test = np.array(Y[int(0.80*len(Y)):])\n",
    "len(X_train), len(Y_train), len(X_test), len(Y_test)\n",
    "\n",
    "print(\"The size of training input is\", X_train.shape)\n",
    "print(\"The size of training output is\", Y_train.shape)\n",
    "print(50 *'*')\n",
    "print(\"The size of testing input is\", X_test.shape)\n",
    "print(\"The size of testing output is\", Y_test.shape)"
   ],
   "metadata": {
    "collapsed": false
   }
  },
  {
   "cell_type": "code",
   "execution_count": 6,
   "outputs": [
    {
     "name": "stdout",
     "output_type": "stream",
     "text": [
      "Linear SVMs is 0.046795 percent accurate\n",
      "Non Linear SVMs is 3.977539 percent accurate\n",
      "Random Forests is 25.409453 percent accurate\n",
      "Elapsed time: 3.53 minutes\n"
     ]
    }
   ],
   "source": [
    "#measuring initial execution time\n",
    "import time\n",
    "start_time = time.time()\n",
    "\n",
    "\n",
    "#importing algorithms\n",
    "from sklearn.svm import LinearSVC\n",
    "from sklearn.svm import SVC\n",
    "from sklearn.ensemble import RandomForestClassifier\n",
    "\n",
    "#initializing variables\n",
    "LSVM = LinearSVC()\n",
    "NLSVM = SVC(kernel='rbf')\n",
    "RF = RandomForestClassifier()\n",
    "\n",
    "# Training data on Data Set\n",
    "LSVM_fit = LSVM.fit(X_train, Y_train)\n",
    "NLSVM_fit = NLSVM.fit(X_train, Y_train)\n",
    "RF_fit = RF.fit(X_train, Y_train)\n",
    "\n",
    "\n",
    "# Predicting on test data set\n",
    "LSVM_pred = LSVM_fit.predict(X_test)\n",
    "NLSVM_pred = NLSVM_fit.predict(X_test)\n",
    "RF_pred = RF_fit.predict(X_test)\n",
    "\n",
    "#printing accuracy of the prediction\n",
    "from sklearn.metrics import accuracy_score\n",
    "\n",
    "print(\"Linear SVMs is %f percent accurate\" % (accuracy_score(LSVM_pred, Y_test)*100))\n",
    "print(\"Non Linear SVMs is %f percent accurate\" % (accuracy_score(NLSVM_pred, Y_test)*100))\n",
    "print(\"Random Forests is %f percent accurate\" % (accuracy_score(RF_pred, Y_test)*100))\n",
    "\n",
    "#measuring final execution time\n",
    "end_time = time.time()\n",
    "\n",
    "elapsed_time = end_time - start_time\n",
    "elapsed_minutes = elapsed_time / 60\n",
    "\n",
    "print(\"Elapsed time: %.2f minutes\" % elapsed_minutes)"
   ],
   "metadata": {
    "collapsed": false
   }
  },
  {
   "cell_type": "code",
   "execution_count": 7,
   "outputs": [
    {
     "name": "stdout",
     "output_type": "stream",
     "text": [
      "Accuracy score in each iteration: [0.0009358914365933552, 0.0028076743097800653, 0.0009358914365933552, 0.0014038371548900327, 0.0009358914365933552]\n",
      "K-Fold Score: 0.0014038371548900329\n",
      "Accuracy score in each iteration: [0.0004679457182966776, 0.0004679457182966776, 0.0014038371548900327, 0.0004679457182966776, 0.0018717828731867104]\n",
      "Stratified K-Fold Score: 0.0009358914365933552\n",
      "Elapsed time: 5.61 minutes\n"
     ]
    }
   ],
   "source": [
    "#measuring initial execution time\n",
    "import time\n",
    "start_time = time.time()\n",
    "\n",
    "\n",
    "# CROSS VALIDATION K FOLD LinearSVC\n",
    "from sklearn.model_selection import train_test_split\n",
    "from sklearn.model_selection import KFold\n",
    "seed=0\n",
    "cv = KFold(n_splits=5,random_state=2, shuffle=True)\n",
    "\n",
    "def return_score(model,X_train, X_test, y_train, y_test):\n",
    "    model.fit(X_train, y_train)\n",
    "    score = model.score(X_test, y_test)\n",
    "    return score\n",
    "\n",
    "scores=[]\n",
    "\n",
    "model = LinearSVC()\n",
    "for train_index, test_index in cv.split(X,Y):\n",
    "    X_train, X_test, y_train, y_test = train_test_split(X,Y,test_size=0.2)\n",
    "    score = return_score(model,X_train, X_test, y_train, y_test)\n",
    "    scores.append(score)\n",
    "print(\"Accuracy score in each iteration: {}\".format(scores))\n",
    "print(\"K-Fold Score: {}\".format(np.mean(scores)))\n",
    "\n",
    "\n",
    "# CROSS VALIDATION StratifiedKFold LinearSVC()\n",
    "from sklearn.model_selection import train_test_split\n",
    "from sklearn.model_selection import StratifiedKFold\n",
    "cv = StratifiedKFold(n_splits=5,random_state=2, shuffle=True)\n",
    "\n",
    "def return_score(model,X_train, X_test, y_train, y_test):\n",
    "    model.fit(X_train, y_train)\n",
    "    score = model.score(X_test, y_test)\n",
    "    return score\n",
    "\n",
    "scores=[]\n",
    "\n",
    "#printingStratefiedKFold\n",
    "model = LinearSVC()\n",
    "for train_index, test_index in cv.split(X,Y):\n",
    "    X_train, X_test, y_train, y_test = train_test_split(X,Y,test_size=0.2)\n",
    "    score = return_score(model,X_train, X_test, y_train, y_test)\n",
    "    scores.append(score)\n",
    "print(\"Accuracy score in each iteration: {}\".format(scores))\n",
    "print(\"Stratified K-Fold Score: {}\".format(np.mean(scores)))\n",
    "\n",
    "#measuring final execution time\n",
    "end_time = time.time()\n",
    "\n",
    "elapsed_time = end_time - start_time\n",
    "elapsed_minutes = elapsed_time / 60\n",
    "\n",
    "print(\"Elapsed time: %.2f minutes\" % elapsed_minutes)"
   ],
   "metadata": {
    "collapsed": false
   }
  },
  {
   "cell_type": "code",
   "execution_count": 8,
   "outputs": [
    {
     "name": "stdout",
     "output_type": "stream",
     "text": [
      "Accuracy score in each iteration: [0.035563874590547495, 0.04211511464670098, 0.039307440336920914, 0.04211511464670098, 0.039307440336920914]\n",
      "K-Fold Score: 0.03968179691155825\n",
      "Accuracy score in each iteration: [0.034160037435657466, 0.03883949461862424, 0.03509592887225082, 0.035563874590547495, 0.031820308844174076]\n",
      "Stratified K-Fold Score: 0.03509592887225082\n",
      "Elapsed time: 19.63 minutes\n"
     ]
    }
   ],
   "source": [
    "#measuring initial execution time\n",
    "import time\n",
    "start_time = time.time()\n",
    "\n",
    "\n",
    "# CROSS VALIDATION K FOLD SVC\n",
    "from sklearn.model_selection import train_test_split\n",
    "from sklearn.model_selection import KFold\n",
    "seed=0\n",
    "cv = KFold(n_splits=5,random_state=2, shuffle=True)\n",
    "\n",
    "def return_score(model,X_train, X_test, y_train, y_test):\n",
    "    model.fit(X_train, y_train)\n",
    "    score = model.score(X_test, y_test)\n",
    "    return score\n",
    "\n",
    "scores=[]\n",
    "\n",
    "model = SVC(kernel='rbf')\n",
    "for train_index, test_index in cv.split(X,Y):\n",
    "    X_train, X_test, y_train, y_test = train_test_split(X,Y,test_size=0.2)\n",
    "    score = return_score(model,X_train, X_test, y_train, y_test)\n",
    "    scores.append(score)\n",
    "print(\"Accuracy score in each iteration: {}\".format(scores))\n",
    "print(\"K-Fold Score: {}\".format(np.mean(scores)))\n",
    "\n",
    "\n",
    "# CROSS VALIDATION StratifiedKFold SVC(kernel='rbf')\n",
    "from sklearn.model_selection import train_test_split\n",
    "from sklearn.model_selection import StratifiedKFold\n",
    "cv = StratifiedKFold(n_splits=5,random_state=2, shuffle=True)\n",
    "\n",
    "def return_score(model,X_train, X_test, y_train, y_test):\n",
    "    model.fit(X_train, y_train)\n",
    "    score = model.score(X_test, y_test)\n",
    "    return score\n",
    "\n",
    "scores=[]\n",
    "\n",
    "#printingStratefiedKFold\n",
    "model = SVC(kernel='rbf')\n",
    "for train_index, test_index in cv.split(X,Y):\n",
    "    X_train, X_test, y_train, y_test = train_test_split(X,Y,test_size=0.2)\n",
    "    score = return_score(model,X_train, X_test, y_train, y_test)\n",
    "    scores.append(score)\n",
    "print(\"Accuracy score in each iteration: {}\".format(scores))\n",
    "print(\"Stratified K-Fold Score: {}\".format(np.mean(scores)))\n",
    "\n",
    "#measuring final execution time\n",
    "end_time = time.time()\n",
    "\n",
    "elapsed_time = end_time - start_time\n",
    "elapsed_minutes = elapsed_time / 60\n",
    "\n",
    "print(\"Elapsed time: %.2f minutes\" % elapsed_minutes)"
   ],
   "metadata": {
    "collapsed": false
   }
  },
  {
   "cell_type": "code",
   "execution_count": 9,
   "outputs": [
    {
     "name": "stdout",
     "output_type": "stream",
     "text": [
      "Accuracy score in each iteration: [0.2419279363593823, 0.2274216190921853, 0.24145999064108564, 0.24520355638745905, 0.24941506785212916]\n",
      "K-Fold Score: 0.2410856340664483\n",
      "Accuracy score in each iteration: [0.23958820776789894, 0.2526906878802059, 0.24520355638745905, 0.2545624707533926, 0.24941506785212916]\n",
      "Stratified K-Fold Score: 0.24829199812821715\n",
      "Elapsed time: 3.76 minutes\n"
     ]
    }
   ],
   "source": [
    "#measuring initial execution time\n",
    "import time\n",
    "start_time = time.time()\n",
    "\n",
    "# CROSS VALIDATION K FOLD RandomForestClassifier\n",
    "from sklearn.model_selection import train_test_split\n",
    "from sklearn.model_selection import KFold\n",
    "seed=0\n",
    "cv = KFold(n_splits=5,random_state=2, shuffle=True)\n",
    "\n",
    "def return_score(model,X_train, X_test, y_train, y_test):\n",
    "    model.fit(X_train, y_train)\n",
    "    score = model.score(X_test, y_test)\n",
    "    return score\n",
    "\n",
    "scores=[]\n",
    "\n",
    "#printing Kfold\n",
    "model = RandomForestClassifier()\n",
    "for train_index, test_index in cv.split(X,Y):\n",
    "    X_train, X_test, y_train, y_test = train_test_split(X,Y,test_size=0.2)\n",
    "    score = return_score(model,X_train, X_test, y_train, y_test)\n",
    "    scores.append(score)\n",
    "print(\"Accuracy score in each iteration: {}\".format(scores))\n",
    "print(\"K-Fold Score: {}\".format(np.mean(scores)))\n",
    "\n",
    "\n",
    "# CROSS VALIDATION StratifiedKFold RandomForestClassifier\n",
    "from sklearn.model_selection import train_test_split\n",
    "from sklearn.model_selection import StratifiedKFold\n",
    "cv = StratifiedKFold(n_splits=5,random_state=2, shuffle=True)\n",
    "\n",
    "def return_score(model,X_train, X_test, y_train, y_test):\n",
    "    model.fit(X_train, y_train)\n",
    "    score = model.score(X_test, y_test)\n",
    "    return score\n",
    "\n",
    "scores=[]\n",
    "\n",
    "#printingStratefiedKFold\n",
    "model = RandomForestClassifier()\n",
    "for train_index, test_index in cv.split(X,Y):\n",
    "    X_train, X_test, y_train, y_test = train_test_split(X,Y,test_size=0.2)\n",
    "    score = return_score(model,X_train, X_test, y_train, y_test)\n",
    "    scores.append(score)\n",
    "print(\"Accuracy score in each iteration: {}\".format(scores))\n",
    "print(\"Stratified K-Fold Score: {}\".format(np.mean(scores)))\n",
    "\n",
    "#measuring final execution time\n",
    "end_time = time.time()\n",
    "\n",
    "elapsed_time = end_time - start_time\n",
    "elapsed_minutes = elapsed_time / 60\n",
    "\n",
    "print(\"Elapsed time: %.2f minutes\" % elapsed_minutes)"
   ],
   "metadata": {
    "collapsed": false
   }
  },
  {
   "cell_type": "code",
   "execution_count": 9,
   "outputs": [],
   "source": [],
   "metadata": {
    "collapsed": false
   }
  },
  {
   "cell_type": "code",
   "execution_count": 10,
   "outputs": [],
   "source": [
    "#REFLECTION\n",
    "\n",
    "# The dataset contained information about airline ticket prices along with various attributes such as the date of journey, source, destination, and other features that could potentially influence the price of the ticket.\n",
    "#\n",
    "# Here are some insights and observations from this dataset:\n",
    "#\n",
    "# The dataset contains 10683 rows and 11 columns.\n",
    "\n",
    "# The 'Airline' column has the highest number of unique values (12), followed by 'Source' and 'Destination' with 5 and 6 unique values, respectively.\n",
    "\n",
    "# The majority of the flights in the dataset have a 'Route' with a single stop.\n",
    "\n",
    "# After dropping columns \"unwanted\" columns, the dataset did not contain null values\n",
    "\n",
    "# The 'Price' column is the target variable that needs to be predicted in a machine learning model.\n",
    "\n",
    "# Columns such as 'Airline', 'Source', 'Destination', and 'Total_Stops', have a strong correlation with the ticket price.\n",
    "\n",
    "# Also there is a significant variation in ticket prices, with the minimum price being around 1750 rupees and the maximum price being over 60,000 rupees.\n",
    "\n",
    "\n",
    "\n",
    "# In terms of modeling, both SVM and RandomForest algorithms were used to predict the ticket price. Of course, the accuracy of the model depends on various factors, such as the quality of the data, the chosen algorithm...amongst others.\n",
    "\n",
    "\n",
    "# Based on the outcomes, it seems like there is an issue with the accuracy scores for the SVM models. The accuracy score of 3.9775 percent or 0.0467 percent is HIGHLY unlikely and probably indicates a potential problem with the model (or data).\n",
    "#\n",
    "# Assuming that the accuracy scores for the SVM models are not accurate and highly unlikely, we can compare the accuracy scores for the Random Forest models. The Random Forest model has an accuracy score of 25.409453 percent, indicating that it has the highest accuracy among the three models. Based on the accuracy scores, we see that the random forest model's performance varies slightly across different iterations. Also, the K-Fold score and Stratified K-Fold score are quite similar,which indicates that the model is performing consistently across different folds and is not overfitting to any particular set of data. Overall, I think it is important to note that an accuracy score of 25.409453 percent is relatively low and may indicate that the models need further improvement or require a different model (or that maybe the dataset is difficult to predict accurately.\n",
    "\n"
   ],
   "metadata": {
    "collapsed": false
   }
  }
 ],
 "metadata": {
  "kernelspec": {
   "display_name": "Python 3",
   "language": "python",
   "name": "python3"
  },
  "language_info": {
   "codemirror_mode": {
    "name": "ipython",
    "version": 2
   },
   "file_extension": ".py",
   "mimetype": "text/x-python",
   "name": "python",
   "nbconvert_exporter": "python",
   "pygments_lexer": "ipython2",
   "version": "2.7.6"
  }
 },
 "nbformat": 4,
 "nbformat_minor": 0
}
